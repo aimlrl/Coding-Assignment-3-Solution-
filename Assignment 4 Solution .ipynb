{
 "cells": [
  {
   "cell_type": "code",
   "execution_count": 1,
   "metadata": {},
   "outputs": [],
   "source": [
    "def is_prime(number,divisor):\n",
    "    \n",
    "    if number == 2 or number == 1:\n",
    "        \n",
    "        return True\n",
    "    \n",
    "    else:\n",
    "        \n",
    "        if divisor == number:\n",
    "            \n",
    "            return True\n",
    "        \n",
    "        if number % divisor == 0:\n",
    "            \n",
    "            return False\n",
    "        \n",
    "        bool_value = is_prime(number,divisor+1)\n",
    "        \n",
    "    return bool_value"
   ]
  },
  {
   "cell_type": "code",
   "execution_count": 29,
   "metadata": {},
   "outputs": [],
   "source": [
    "def even_prime_list_creation(all_numbers,even,prime):\n",
    "    \n",
    "    if len(all_numbers) == 0:\n",
    "        \n",
    "        return prime, even\n",
    "    \n",
    "    if all_numbers[0] % 2 == 0:\n",
    "        \n",
    "        even.append(all_numbers[0])\n",
    "        \n",
    "    else:\n",
    "        \n",
    "        if is_prime(all_numbers[0],2) == True:\n",
    "            \n",
    "            prime.append(all_numbers[0])\n",
    "            \n",
    "    all_num.pop(0)\n",
    "            \n",
    "    prime_list, even_list = even_prime_list_creation(all_numbers,even,prime)\n",
    "    \n",
    "    return prime_list, even_list"
   ]
  },
  {
   "cell_type": "code",
   "execution_count": 41,
   "metadata": {},
   "outputs": [],
   "source": [
    "import numpy as np"
   ]
  },
  {
   "cell_type": "code",
   "execution_count": 42,
   "metadata": {},
   "outputs": [],
   "source": [
    "all_num = list(np.random.randint(low=0,high=2000,size=(1000,)))\n",
    "\n",
    "even_num = []\n",
    "\n",
    "prime_num = []"
   ]
  },
  {
   "cell_type": "code",
   "execution_count": 43,
   "metadata": {},
   "outputs": [],
   "source": [
    "p_list, e_list = even_prime_list_creation(all_num,even_num,prime_num)"
   ]
  },
  {
   "cell_type": "code",
   "execution_count": 45,
   "metadata": {},
   "outputs": [
    {
     "data": {
      "text/plain": [
       "153"
      ]
     },
     "execution_count": 45,
     "metadata": {},
     "output_type": "execute_result"
    }
   ],
   "source": [
    "len(p_list)"
   ]
  },
  {
   "cell_type": "code",
   "execution_count": 47,
   "metadata": {},
   "outputs": [
    {
     "data": {
      "text/plain": [
       "510"
      ]
     },
     "execution_count": 47,
     "metadata": {},
     "output_type": "execute_result"
    }
   ],
   "source": [
    "len(e_list)"
   ]
  },
  {
   "cell_type": "code",
   "execution_count": null,
   "metadata": {},
   "outputs": [],
   "source": []
  },
  {
   "cell_type": "code",
   "execution_count": null,
   "metadata": {},
   "outputs": [],
   "source": []
  },
  {
   "cell_type": "code",
   "execution_count": null,
   "metadata": {},
   "outputs": [],
   "source": []
  },
  {
   "cell_type": "code",
   "execution_count": null,
   "metadata": {},
   "outputs": [],
   "source": []
  }
 ],
 "metadata": {
  "kernelspec": {
   "display_name": "Python 3",
   "language": "python",
   "name": "python3"
  },
  "language_info": {
   "codemirror_mode": {
    "name": "ipython",
    "version": 3
   },
   "file_extension": ".py",
   "mimetype": "text/x-python",
   "name": "python",
   "nbconvert_exporter": "python",
   "pygments_lexer": "ipython3",
   "version": "3.7.3"
  }
 },
 "nbformat": 4,
 "nbformat_minor": 2
}
